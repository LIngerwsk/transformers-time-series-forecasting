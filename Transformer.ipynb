{
  "nbformat": 4,
  "nbformat_minor": 0,
  "metadata": {
    "colab": {
      "name": "Transformer",
      "provenance": [],
      "collapsed_sections": [],
      "authorship_tag": "ABX9TyMUib7BgUDJFnVgL636Tfvz",
      "include_colab_link": true
    },
    "kernelspec": {
      "name": "python3",
      "display_name": "Python 3"
    }
  },
  "cells": [
    {
      "cell_type": "markdown",
      "metadata": {
        "id": "view-in-github",
        "colab_type": "text"
      },
      "source": [
        "<a href=\"https://colab.research.google.com/github/srijonsarkar/transformers-time-series-forecasting/blob/master/Transformer.ipynb\" target=\"_parent\"><img src=\"https://colab.research.google.com/assets/colab-badge.svg\" alt=\"Open In Colab\"/></a>"
      ]
    },
    {
      "cell_type": "code",
      "metadata": {
        "id": "DSAcAhP5xkbb",
        "colab_type": "code",
        "colab": {}
      },
      "source": [
        "import torch\n",
        "import torch.nn as nn\n",
        "import torch.nn.functional as F\n",
        "\n",
        "import numpy as np"
      ],
      "execution_count": null,
      "outputs": []
    },
    {
      "cell_type": "code",
      "metadata": {
        "id": "ihnrijQc_B9e",
        "colab_type": "code",
        "colab": {}
      },
      "source": [
        "class ScaledDotProductAttention(nn.Module):\n",
        "    ''' Scaled Dot-Product Attention '''\n",
        "\n",
        "    def __init__(self, temperature, attn_dropout=0.1):\n",
        "        super().__init__()\n",
        "        self.temperature = temperature\n",
        "        self.dropout = nn.Dropout(attn_dropout)\n",
        "\n",
        "    def forward(self, q, k, v, mask=None):\n",
        "\n",
        "        attn = torch.matmul(q / self.temperature, k.transpose(2, 3))\n",
        "\n",
        "        if mask is not None:\n",
        "            attn = attn.masked_fill(mask == 0, -1e9)\n",
        "\n",
        "        attn = self.dropout(F.softmax(attn, dim=-1))\n",
        "        output = torch.matmul(attn, v)\n",
        "\n",
        "        return output, attn"
      ],
      "execution_count": null,
      "outputs": []
    },
    {
      "cell_type": "code",
      "metadata": {
        "id": "MVu9BJx-_CAs",
        "colab_type": "code",
        "colab": {}
      },
      "source": [
        "class MultiHeadAttention(nn.Module):\n",
        "    ''' Multi-Head Attention module '''\n",
        "\n",
        "    def __init__(self, n_head, d_model, d_k, d_v, dropout=0.1):\n",
        "        super().__init__()\n",
        "\n",
        "        self.n_head = n_head\n",
        "        self.d_k = d_k\n",
        "        self.d_v = d_v\n",
        "\n",
        "        self.w_qs = nn.Linear(d_model, n_head * d_k, bias=False)\n",
        "        self.w_ks = nn.Linear(d_model, n_head * d_k, bias=False)\n",
        "        self.w_vs = nn.Linear(d_model, n_head * d_v, bias=False)\n",
        "        self.fc = nn.Linear(n_head * d_v, d_model, bias=False)\n",
        "\n",
        "        self.attention = ScaledDotProductAttention(temperature=d_k ** 0.5)\n",
        "\n",
        "        self.dropout = nn.Dropout(dropout)\n",
        "        self.layer_norm = nn.LayerNorm(d_model, eps=1e-6)\n",
        "\n",
        "\n",
        "    def forward(self, q, k, v, mask=None):\n",
        "\n",
        "        d_k, d_v, n_head = self.d_k, self.d_v, self.n_head\n",
        "        sz_b, len_q, len_k, len_v = q.size(0), q.size(1), k.size(1), v.size(1)\n",
        "\n",
        "        residual = q\n",
        "        q = self.layer_norm(q)\n",
        "\n",
        "        # Pass through the pre-attention projection: b x lq x (n*dv)\n",
        "        # Separate different heads: b x lq x n x dv\n",
        "        q = self.w_qs(q).view(sz_b, len_q, n_head, d_k)\n",
        "        k = self.w_ks(k).view(sz_b, len_k, n_head, d_k)\n",
        "        v = self.w_vs(v).view(sz_b, len_v, n_head, d_v)\n",
        "\n",
        "        # Transpose for attention dot product: b x n x lq x dv\n",
        "        q, k, v = q.transpose(1, 2), k.transpose(1, 2), v.transpose(1, 2)\n",
        "        \n",
        "        if mask is not None:\n",
        "            mask = mask.unsqueeze(1)   # For head axis broadcasting.\n",
        " \n",
        "        q, attn = self.attention(q, k, v, mask=mask)\n",
        "\n",
        "        # Transpose to move the head dimension back: b x lq x n x dv\n",
        "        # Combine the last two dimensions to concatenate all the heads together: b x lq x (n*dv)\n",
        "        q = q.transpose(1, 2).contiguous().view(sz_b, len_q, -1)\n",
        "        q = self.dropout(self.fc(q))\n",
        "        q += residual\n",
        "\n",
        "        return q, attn\n",
        "\n",
        "\n",
        "class PositionwiseFeedForward(nn.Module):\n",
        "    ''' A two-feed-forward-layer module '''\n",
        "\n",
        "    def __init__(self, d_in, d_hid, dropout=0.1):\n",
        "        super().__init__()\n",
        "        self.w_1 = nn.Linear(d_in, d_hid) # position-wise\n",
        "        self.w_2 = nn.Linear(d_hid, d_in) # position-wise\n",
        "        self.layer_norm = nn.LayerNorm(d_in, eps=1e-6)\n",
        "        self.dropout = nn.Dropout(dropout)\n",
        "\n",
        "    def forward(self, x):\n",
        "\n",
        "        residual = x\n",
        "        x = self.layer_norm(x)\n",
        "\n",
        "        x = self.w_2(F.relu(self.w_1(x)))\n",
        "        x = self.dropout(x)\n",
        "        x += residual\n",
        "\n",
        "        return x"
      ],
      "execution_count": null,
      "outputs": []
    },
    {
      "cell_type": "code",
      "metadata": {
        "id": "feAXcc-B_CGW",
        "colab_type": "code",
        "colab": {}
      },
      "source": [
        "class EncoderLayer(nn.Module):\n",
        "    ''' Compose with two layers '''\n",
        "\n",
        "    def __init__(self, d_model, d_inner, n_head, d_k, d_v, dropout=0.1):\n",
        "        super(EncoderLayer, self).__init__()\n",
        "        self.slf_attn = MultiHeadAttention(n_head, d_model, d_k, d_v, dropout=dropout)\n",
        "        self.pos_ffn = PositionwiseFeedForward(d_model, d_inner, dropout=dropout)\n",
        "\n",
        "    def forward(self, enc_input, slf_attn_mask=None):\n",
        "        enc_output, enc_slf_attn = self.slf_attn(\n",
        "            enc_input, enc_input, enc_input, mask=slf_attn_mask)\n",
        "        enc_output = self.pos_ffn(enc_output)\n",
        "        return enc_output, enc_slf_attn\n",
        "\n",
        "\n",
        "class DecoderLayer(nn.Module):\n",
        "    ''' Compose with three layers '''\n",
        "\n",
        "    def __init__(self, d_model, d_inner, n_head, d_k, d_v, dropout=0.1):\n",
        "        super(DecoderLayer, self).__init__()\n",
        "        self.slf_attn = MultiHeadAttention(n_head, d_model, d_k, d_v, dropout=dropout)\n",
        "        self.enc_attn = MultiHeadAttention(n_head, d_model, d_k, d_v, dropout=dropout)\n",
        "        self.pos_ffn = PositionwiseFeedForward(d_model, d_inner, dropout=dropout)\n",
        "\n",
        "    def forward(\n",
        "            self, dec_input, enc_output,\n",
        "            slf_attn_mask=None, dec_enc_attn_mask=None):\n",
        "        dec_output, dec_slf_attn = self.slf_attn(\n",
        "            dec_input, dec_input, dec_input, mask=slf_attn_mask)\n",
        "        dec_output, dec_enc_attn = self.enc_attn(\n",
        "            dec_output, enc_output, enc_output, mask=dec_enc_attn_mask)\n",
        "        dec_output = self.pos_ffn(dec_output)\n",
        "        return dec_output, dec_slf_attn, dec_enc_attn"
      ],
      "execution_count": null,
      "outputs": []
    },
    {
      "cell_type": "code",
      "metadata": {
        "id": "MWD0fX6y_CJx",
        "colab_type": "code",
        "colab": {}
      },
      "source": [
        "def get_pad_mask(seq, pad_idx):\n",
        "    return (seq != pad_idx).unsqueeze(-2)\n",
        "\n",
        "\n",
        "def get_subsequent_mask(seq):\n",
        "    ''' For masking out the subsequent info. '''\n",
        "    sz_b, len_s = seq.size()\n",
        "    #subsequent_mask = (   1 - torch.triu( torch.ones((len_s, len_s), device=seq.device), diagonal=1)    ).bool()\n",
        "    subsequent_mask = (   1 - torch.triu( torch.ones((sz_b, sz_b), device=seq.device), diagonal=1)    ).bool()\n",
        "    return subsequent_mask\n",
        "\n",
        "\n",
        "class PositionalEncoding(nn.Module):\n",
        "\n",
        "    def __init__(self, d_hid, n_position=200):\n",
        "        super(PositionalEncoding, self).__init__()\n",
        "\n",
        "        # Not a parameter\n",
        "        self.register_buffer('pos_table', self._get_sinusoid_encoding_table(n_position, d_hid))\n",
        "\n",
        "    def _get_sinusoid_encoding_table(self, n_position, d_hid):\n",
        "        ''' Sinusoid position encoding table '''\n",
        "        # TODO: make it with torch instead of numpy\n",
        "\n",
        "        def get_position_angle_vec(position):\n",
        "            return [position / np.power(10000, 2 * (hid_j // 2) / d_hid) for hid_j in range(d_hid)]\n",
        "\n",
        "        sinusoid_table = np.array([get_position_angle_vec(pos_i) for pos_i in range(n_position)])\n",
        "        sinusoid_table[:, 0::2] = np.sin(sinusoid_table[:, 0::2])  # dim 2i\n",
        "        sinusoid_table[:, 1::2] = np.cos(sinusoid_table[:, 1::2])  # dim 2i+1\n",
        "\n",
        "        return torch.FloatTensor(sinusoid_table).unsqueeze(0)\n",
        "\n",
        "    def forward(self, x):\n",
        "        return x + self.pos_table[:, :x.size(1)].clone().detach()\n",
        "\n",
        "\n",
        "class Encoder(nn.Module):\n",
        "    ''' A encoder model with self attention mechanism. '''\n",
        "\n",
        "    def __init__(\n",
        "            self, n_src_vocab, d_word_vec, n_layers, n_head, d_k, d_v,\n",
        "            d_model, d_inner, dropout=0.1, n_position=200):\n",
        "      \n",
        "        '''\n",
        "          n_src_vocab = number of words in source vocabulary\n",
        "          d_word_vec  = dimensionality of word vector\n",
        "          n_layers    = number of encoder layers stacked \n",
        "          n_head      = number of heads in attention\n",
        "          d_k         = dimensionality of key\n",
        "          d_v         = dimensionality of value\n",
        "          d_model     = dimensionality of vector output by model/encoder\n",
        "          d_inner     = dimension of middle layer in feed forward network\n",
        "        '''\n",
        "\n",
        "        super().__init__()\n",
        "\n",
        "        self.src_word_emb = nn.Sequential(\n",
        "                                nn.Linear( in_features=n_src_vocab, out_features=10 ),\n",
        "                                nn.ReLU(),\n",
        "                                nn.Linear( in_features=10, out_features=d_model )\n",
        "                            )\n",
        "        self.position_enc = PositionalEncoding(d_word_vec, n_position=n_position)\n",
        "        self.dropout = nn.Dropout(p=dropout)\n",
        "        self.layer_stack = nn.ModuleList([\n",
        "            EncoderLayer(d_model, d_inner, n_head, d_k, d_v, dropout=dropout)\n",
        "            for _ in range(n_layers)])\n",
        "        self.layer_norm = nn.LayerNorm(d_model, eps=1e-6)\n",
        "\n",
        "    def forward(self, src_seq, src_mask, return_attns=False):\n",
        "\n",
        "        enc_slf_attn_list = []\n",
        "        # -- Forward\n",
        "        enc_output = self.dropout(self.position_enc(self.src_word_emb(src_seq)))\n",
        "        for enc_layer in self.layer_stack:\n",
        "            enc_output, enc_slf_attn = enc_layer(enc_output, slf_attn_mask=src_mask)\n",
        "            enc_slf_attn_list += [enc_slf_attn] if return_attns else []\n",
        "\n",
        "        enc_output = self.layer_norm(enc_output)\n",
        "\n",
        "        if return_attns:\n",
        "            return enc_output, enc_slf_attn_list\n",
        "        return enc_output,\n",
        "\n",
        "\n",
        "class Decoder(nn.Module):\n",
        "    ''' A decoder model with self attention mechanism. '''\n",
        "\n",
        "    def __init__(\n",
        "            self, n_trg_vocab, d_word_vec, n_layers, n_head, d_k, d_v,\n",
        "            d_model, d_inner, n_position=200, dropout=0.1):\n",
        "        '''\n",
        "          n_trg_vocab = number of words in target vocabulary(not needed for time series)\n",
        "          d_word_vec  = dimensionality of word vector\n",
        "          n_layers    = number of decoder layers stacked \n",
        "          n_head      = number of heads in attention\n",
        "          d_k         = dimensionality of key\n",
        "          d_v         = dimensionality of value\n",
        "          d_model     = dimensionality of vector output by model/encoder\n",
        "          d_inner     = dimension of middle layer in feed forward network\n",
        "        '''\n",
        "        super().__init__()\n",
        "\n",
        "        self.trg_word_emb = nn.Sequential(\n",
        "                                nn.Linear( in_features=1, out_features=10 ),\n",
        "                                nn.ReLU(),\n",
        "                                nn.Linear( in_features=10, out_features=d_model )\n",
        "        )\n",
        "        #n_trg_vocab, d_word_vec\n",
        "        \n",
        "        self.position_enc = PositionalEncoding(d_word_vec, n_position=n_position)\n",
        "        self.dropout = nn.Dropout(p=dropout)\n",
        "        self.layer_stack = nn.ModuleList([\n",
        "            DecoderLayer(d_model, d_inner, n_head, d_k, d_v, dropout=dropout)\n",
        "            for _ in range(n_layers)])\n",
        "        self.layer_norm = nn.LayerNorm(d_model, eps=1e-6)\n",
        "\n",
        "    def forward(self, trg_seq, trg_mask, enc_output, src_mask, return_attns=False):\n",
        "\n",
        "        dec_slf_attn_list, dec_enc_attn_list = [], []\n",
        "\n",
        "        # -- Forward\n",
        "        dec_output = self.dropout(self.position_enc(self.trg_word_emb(trg_seq)))\n",
        "\n",
        "        for dec_layer in self.layer_stack:\n",
        "            dec_output, dec_slf_attn, dec_enc_attn = dec_layer(\n",
        "                dec_output, enc_output, slf_attn_mask=trg_mask, dec_enc_attn_mask=src_mask)\n",
        "            dec_slf_attn_list += [dec_slf_attn] if return_attns else []\n",
        "            dec_enc_attn_list += [dec_enc_attn] if return_attns else []\n",
        "\n",
        "        dec_output = self.layer_norm(dec_output)\n",
        "\n",
        "        if return_attns:\n",
        "            return dec_output, dec_slf_attn_list, dec_enc_attn_list\n",
        "        return dec_output,\n",
        "\n",
        "\n",
        "class Transformer(nn.Module):\n",
        "    ''' A model for time series forecasting '''\n",
        "\n",
        "    def __init__(\n",
        "            self, n_src_vocab, n_trg_vocab=1, #src_pad_idx, trg_pad_idx,\n",
        "            d_word_vec=32, d_model=32, d_inner=16,\n",
        "            n_layers=4, n_head=8, d_k=32, d_v=32, dropout=0.1, n_position=10,\n",
        "            trg_emb_prj_weight_sharing=False, emb_src_trg_weight_sharing=False):\n",
        "\n",
        "        super().__init__()\n",
        "\n",
        "        #self.src_pad_idx, self.trg_pad_idx = src_pad_idx, trg_pad_idx\n",
        "\n",
        "        self.encoder = Encoder(\n",
        "            n_src_vocab=n_src_vocab, n_position=n_position,\n",
        "            d_word_vec=d_word_vec, d_model=d_model, d_inner=d_inner,\n",
        "            n_layers=n_layers, n_head=n_head, d_k=d_k, d_v=d_v,\n",
        "            #pad_idx=src_pad_idx, \n",
        "            dropout=dropout)\n",
        "\n",
        "        self.decoder = Decoder(\n",
        "            n_trg_vocab=n_trg_vocab, n_position=4,\n",
        "            d_word_vec=d_word_vec, d_model=d_model, d_inner=d_inner,\n",
        "            n_layers=n_layers, n_head=n_head, d_k=d_k, d_v=d_v,\n",
        "            #pad_idx=trg_pad_idx,\n",
        "            dropout=dropout)\n",
        "\n",
        "        self.trg_word_prj = nn.Linear(d_model, n_trg_vocab, bias=False)\n",
        "\n",
        "        for p in self.parameters():\n",
        "            if p.dim() > 1:\n",
        "                nn.init.xavier_uniform_(p) \n",
        "\n",
        "        assert d_model == d_word_vec, \\\n",
        "        'To facilitate the residual connections, \\\n",
        "         the dimensions of all module outputs shall be the same.'\n",
        "\n",
        "        self.x_logit_scale = 1.\n",
        "        if trg_emb_prj_weight_sharing:\n",
        "            # Share the weight between target word embedding & last dense layer\n",
        "            self.trg_word_prj.weight = self.decoder.trg_word_emb.weight\n",
        "            self.x_logit_scale = (d_model ** -0.5)\n",
        "\n",
        "        if emb_src_trg_weight_sharing:\n",
        "            self.encoder.src_word_emb.weight = self.decoder.trg_word_emb.weight\n",
        "\n",
        "\n",
        "    def forward(self, src_seq, trg_seq):\n",
        "\n",
        "        #src_mask = get_pad_mask(src_seq, self.src_pad_idx)\n",
        "        #trg_mask = [trg_seq[i].tolist() for i in get_subsequent_mask(trg_seq)]\n",
        "        #print(trg_mask)\n",
        "        #trg_mask = torch.tensor(trg_mask)\n",
        "\n",
        "        enc_output, *_ = self.encoder(src_seq, src_mask=None)\n",
        "        dec_output, *_ = self.decoder(trg_seq, trg_mask, enc_output, src_mask=None)\n",
        "        seq_logit = self.trg_word_prj(dec_output) * self.x_logit_scale\n",
        "\n",
        "        return seq_logit.view(-1, seq_logit.size(2))"
      ],
      "execution_count": null,
      "outputs": []
    },
    {
      "cell_type": "code",
      "metadata": {
        "id": "a2z_3UDV_CDi",
        "colab_type": "code",
        "colab": {}
      },
      "source": [
        "# train\n",
        "# 10 consecutive rows go to encoder(src_seq) \n",
        "# next 4 rows go to decoder(trg_seq), and subsequent mask applied there\n",
        "epoch = 100\n",
        "for e in range(epoch)\n",
        "    src_seq = df.iloc[]"
      ],
      "execution_count": null,
      "outputs": []
    },
    {
      "cell_type": "code",
      "metadata": {
        "id": "iR8fZwfPQqR2",
        "colab_type": "code",
        "colab": {
          "base_uri": "https://localhost:8080/",
          "height": 376
        },
        "outputId": "30e28ec4-9529-4db1-8d68-457efa33df13"
      },
      "source": [
        "'''\n",
        "self, n_src_vocab, n_trg_vocab=1, #src_pad_idx, trg_pad_idx,\n",
        "            d_word_vec=32, d_model=32, d_inner=16,\n",
        "            n_layers=4, n_head=8, d_k=32, d_v=32, dropout=0.1, n_position=10,\n",
        "            trg_emb_prj_weight_sharing=True, emb_src_trg_weight_sharing=True):\n",
        "'''\n",
        "\n",
        "model = Transformer(n_src_vocab = 1, n_trg_vocab=1, d_word_vec=32, \n",
        "                    d_model=32, d_inner=16, n_layers=4, n_head=8, \n",
        "                    d_k=32, d_v=32, dropout=0.1, n_position=10)\n",
        "\n",
        "src_inp = torch.rand(10, 1)\n",
        "trg_out = torch.rand(4, 1)\n",
        "out = model(src_inp, trg_out)\n",
        "print(out.shape)"
      ],
      "execution_count": null,
      "outputs": [
        {
          "output_type": "error",
          "ename": "NameError",
          "evalue": "ignored",
          "traceback": [
            "\u001b[0;31m---------------------------------------------------------------------------\u001b[0m",
            "\u001b[0;31mNameError\u001b[0m                                 Traceback (most recent call last)",
            "\u001b[0;32m<ipython-input-21-5a8ce54a83d8>\u001b[0m in \u001b[0;36m<module>\u001b[0;34m()\u001b[0m\n\u001b[1;32m     10\u001b[0m \u001b[0msrc_inp\u001b[0m \u001b[0;34m=\u001b[0m \u001b[0mtorch\u001b[0m\u001b[0;34m.\u001b[0m\u001b[0mrand\u001b[0m\u001b[0;34m(\u001b[0m\u001b[0;36m10\u001b[0m\u001b[0;34m,\u001b[0m \u001b[0;36m1\u001b[0m\u001b[0;34m)\u001b[0m\u001b[0;34m\u001b[0m\u001b[0;34m\u001b[0m\u001b[0m\n\u001b[1;32m     11\u001b[0m \u001b[0mtrg_out\u001b[0m \u001b[0;34m=\u001b[0m \u001b[0mtorch\u001b[0m\u001b[0;34m.\u001b[0m\u001b[0mrand\u001b[0m\u001b[0;34m(\u001b[0m\u001b[0;36m4\u001b[0m\u001b[0;34m,\u001b[0m \u001b[0;36m1\u001b[0m\u001b[0;34m)\u001b[0m\u001b[0;34m\u001b[0m\u001b[0;34m\u001b[0m\u001b[0m\n\u001b[0;32m---> 12\u001b[0;31m \u001b[0mout\u001b[0m \u001b[0;34m=\u001b[0m \u001b[0mmodel\u001b[0m\u001b[0;34m(\u001b[0m\u001b[0msrc_inp\u001b[0m\u001b[0;34m,\u001b[0m \u001b[0mtrg_out\u001b[0m\u001b[0;34m)\u001b[0m\u001b[0;34m\u001b[0m\u001b[0;34m\u001b[0m\u001b[0m\n\u001b[0m\u001b[1;32m     13\u001b[0m \u001b[0mprint\u001b[0m\u001b[0;34m(\u001b[0m\u001b[0mout\u001b[0m\u001b[0;34m.\u001b[0m\u001b[0mshape\u001b[0m\u001b[0;34m)\u001b[0m\u001b[0;34m\u001b[0m\u001b[0;34m\u001b[0m\u001b[0m\n",
            "\u001b[0;32m/usr/local/lib/python3.6/dist-packages/torch/nn/modules/module.py\u001b[0m in \u001b[0;36m__call__\u001b[0;34m(self, *input, **kwargs)\u001b[0m\n\u001b[1;32m    548\u001b[0m             \u001b[0mresult\u001b[0m \u001b[0;34m=\u001b[0m \u001b[0mself\u001b[0m\u001b[0;34m.\u001b[0m\u001b[0m_slow_forward\u001b[0m\u001b[0;34m(\u001b[0m\u001b[0;34m*\u001b[0m\u001b[0minput\u001b[0m\u001b[0;34m,\u001b[0m \u001b[0;34m**\u001b[0m\u001b[0mkwargs\u001b[0m\u001b[0;34m)\u001b[0m\u001b[0;34m\u001b[0m\u001b[0;34m\u001b[0m\u001b[0m\n\u001b[1;32m    549\u001b[0m         \u001b[0;32melse\u001b[0m\u001b[0;34m:\u001b[0m\u001b[0;34m\u001b[0m\u001b[0;34m\u001b[0m\u001b[0m\n\u001b[0;32m--> 550\u001b[0;31m             \u001b[0mresult\u001b[0m \u001b[0;34m=\u001b[0m \u001b[0mself\u001b[0m\u001b[0;34m.\u001b[0m\u001b[0mforward\u001b[0m\u001b[0;34m(\u001b[0m\u001b[0;34m*\u001b[0m\u001b[0minput\u001b[0m\u001b[0;34m,\u001b[0m \u001b[0;34m**\u001b[0m\u001b[0mkwargs\u001b[0m\u001b[0;34m)\u001b[0m\u001b[0;34m\u001b[0m\u001b[0;34m\u001b[0m\u001b[0m\n\u001b[0m\u001b[1;32m    551\u001b[0m         \u001b[0;32mfor\u001b[0m \u001b[0mhook\u001b[0m \u001b[0;32min\u001b[0m \u001b[0mself\u001b[0m\u001b[0;34m.\u001b[0m\u001b[0m_forward_hooks\u001b[0m\u001b[0;34m.\u001b[0m\u001b[0mvalues\u001b[0m\u001b[0;34m(\u001b[0m\u001b[0;34m)\u001b[0m\u001b[0;34m:\u001b[0m\u001b[0;34m\u001b[0m\u001b[0;34m\u001b[0m\u001b[0m\n\u001b[1;32m    552\u001b[0m             \u001b[0mhook_result\u001b[0m \u001b[0;34m=\u001b[0m \u001b[0mhook\u001b[0m\u001b[0;34m(\u001b[0m\u001b[0mself\u001b[0m\u001b[0;34m,\u001b[0m \u001b[0minput\u001b[0m\u001b[0;34m,\u001b[0m \u001b[0mresult\u001b[0m\u001b[0;34m)\u001b[0m\u001b[0;34m\u001b[0m\u001b[0;34m\u001b[0m\u001b[0m\n",
            "\u001b[0;32m<ipython-input-20-303e3267488c>\u001b[0m in \u001b[0;36mforward\u001b[0;34m(self, src_seq, trg_seq)\u001b[0m\n\u001b[1;32m    189\u001b[0m \u001b[0;34m\u001b[0m\u001b[0m\n\u001b[1;32m    190\u001b[0m         \u001b[0menc_output\u001b[0m\u001b[0;34m,\u001b[0m \u001b[0;34m*\u001b[0m\u001b[0m_\u001b[0m \u001b[0;34m=\u001b[0m \u001b[0mself\u001b[0m\u001b[0;34m.\u001b[0m\u001b[0mencoder\u001b[0m\u001b[0;34m(\u001b[0m\u001b[0msrc_seq\u001b[0m\u001b[0;34m,\u001b[0m \u001b[0msrc_mask\u001b[0m\u001b[0;34m=\u001b[0m\u001b[0;32mNone\u001b[0m\u001b[0;34m)\u001b[0m\u001b[0;34m\u001b[0m\u001b[0;34m\u001b[0m\u001b[0m\n\u001b[0;32m--> 191\u001b[0;31m         \u001b[0mdec_output\u001b[0m\u001b[0;34m,\u001b[0m \u001b[0;34m*\u001b[0m\u001b[0m_\u001b[0m \u001b[0;34m=\u001b[0m \u001b[0mself\u001b[0m\u001b[0;34m.\u001b[0m\u001b[0mdecoder\u001b[0m\u001b[0;34m(\u001b[0m\u001b[0mtrg_seq\u001b[0m\u001b[0;34m,\u001b[0m \u001b[0mtrg_mask\u001b[0m\u001b[0;34m,\u001b[0m \u001b[0menc_output\u001b[0m\u001b[0;34m,\u001b[0m \u001b[0msrc_mask\u001b[0m\u001b[0;34m=\u001b[0m\u001b[0;32mNone\u001b[0m\u001b[0;34m)\u001b[0m\u001b[0;34m\u001b[0m\u001b[0;34m\u001b[0m\u001b[0m\n\u001b[0m\u001b[1;32m    192\u001b[0m         \u001b[0mseq_logit\u001b[0m \u001b[0;34m=\u001b[0m \u001b[0mself\u001b[0m\u001b[0;34m.\u001b[0m\u001b[0mtrg_word_prj\u001b[0m\u001b[0;34m(\u001b[0m\u001b[0mdec_output\u001b[0m\u001b[0;34m)\u001b[0m \u001b[0;34m*\u001b[0m \u001b[0mself\u001b[0m\u001b[0;34m.\u001b[0m\u001b[0mx_logit_scale\u001b[0m\u001b[0;34m\u001b[0m\u001b[0;34m\u001b[0m\u001b[0m\n\u001b[1;32m    193\u001b[0m \u001b[0;34m\u001b[0m\u001b[0m\n",
            "\u001b[0;31mNameError\u001b[0m: name 'trg_mask' is not defined"
          ]
        }
      ]
    },
    {
      "cell_type": "code",
      "metadata": {
        "id": "0gVW84uPGNqw",
        "colab_type": "code",
        "colab": {
          "base_uri": "https://localhost:8080/",
          "height": 424
        },
        "outputId": "2597d85c-de92-467b-f14c-c0da5f1c0d25"
      },
      "source": [
        "df"
      ],
      "execution_count": null,
      "outputs": [
        {
          "output_type": "execute_result",
          "data": {
            "text/html": [
              "<div>\n",
              "<style scoped>\n",
              "    .dataframe tbody tr th:only-of-type {\n",
              "        vertical-align: middle;\n",
              "    }\n",
              "\n",
              "    .dataframe tbody tr th {\n",
              "        vertical-align: top;\n",
              "    }\n",
              "\n",
              "    .dataframe thead th {\n",
              "        text-align: right;\n",
              "    }\n",
              "</style>\n",
              "<table border=\"1\" class=\"dataframe\">\n",
              "  <thead>\n",
              "    <tr style=\"text-align: right;\">\n",
              "      <th></th>\n",
              "      <th>YEAR</th>\n",
              "      <th>WEEK</th>\n",
              "      <th>ILITOTAL</th>\n",
              "    </tr>\n",
              "  </thead>\n",
              "  <tbody>\n",
              "    <tr>\n",
              "      <th>0</th>\n",
              "      <td>2017</td>\n",
              "      <td>40</td>\n",
              "      <td>12839</td>\n",
              "    </tr>\n",
              "    <tr>\n",
              "      <th>1</th>\n",
              "      <td>2017</td>\n",
              "      <td>41</td>\n",
              "      <td>13267</td>\n",
              "    </tr>\n",
              "    <tr>\n",
              "      <th>2</th>\n",
              "      <td>2017</td>\n",
              "      <td>42</td>\n",
              "      <td>14319</td>\n",
              "    </tr>\n",
              "    <tr>\n",
              "      <th>3</th>\n",
              "      <td>2017</td>\n",
              "      <td>43</td>\n",
              "      <td>15832</td>\n",
              "    </tr>\n",
              "    <tr>\n",
              "      <th>4</th>\n",
              "      <td>2017</td>\n",
              "      <td>44</td>\n",
              "      <td>17069</td>\n",
              "    </tr>\n",
              "    <tr>\n",
              "      <th>...</th>\n",
              "      <td>...</td>\n",
              "      <td>...</td>\n",
              "      <td>...</td>\n",
              "    </tr>\n",
              "    <tr>\n",
              "      <th>129</th>\n",
              "      <td>2020</td>\n",
              "      <td>13</td>\n",
              "      <td>53138</td>\n",
              "    </tr>\n",
              "    <tr>\n",
              "      <th>130</th>\n",
              "      <td>2020</td>\n",
              "      <td>14</td>\n",
              "      <td>36061</td>\n",
              "    </tr>\n",
              "    <tr>\n",
              "      <th>131</th>\n",
              "      <td>2020</td>\n",
              "      <td>15</td>\n",
              "      <td>24722</td>\n",
              "    </tr>\n",
              "    <tr>\n",
              "      <th>132</th>\n",
              "      <td>2020</td>\n",
              "      <td>16</td>\n",
              "      <td>17995</td>\n",
              "    </tr>\n",
              "    <tr>\n",
              "      <th>133</th>\n",
              "      <td>2020</td>\n",
              "      <td>17</td>\n",
              "      <td>14841</td>\n",
              "    </tr>\n",
              "  </tbody>\n",
              "</table>\n",
              "<p>134 rows × 3 columns</p>\n",
              "</div>"
            ],
            "text/plain": [
              "     YEAR  WEEK  ILITOTAL\n",
              "0    2017    40     12839\n",
              "1    2017    41     13267\n",
              "2    2017    42     14319\n",
              "3    2017    43     15832\n",
              "4    2017    44     17069\n",
              "..    ...   ...       ...\n",
              "129  2020    13     53138\n",
              "130  2020    14     36061\n",
              "131  2020    15     24722\n",
              "132  2020    16     17995\n",
              "133  2020    17     14841\n",
              "\n",
              "[134 rows x 3 columns]"
            ]
          },
          "metadata": {
            "tags": []
          },
          "execution_count": 10
        }
      ]
    },
    {
      "cell_type": "code",
      "metadata": {
        "id": "FNNBBOEHyI11",
        "colab_type": "code",
        "colab": {
          "base_uri": "https://localhost:8080/",
          "height": 243
        },
        "outputId": "0cf1002a-611d-4224-94cf-2afb913776f7"
      },
      "source": [
        "a  = torch.tensor([torch.zeros(1), torch.zeros(2),torch.zeros(3), torch.zeros(4)])\n",
        "print(a)\n",
        "\n",
        "a = torch.tensor(a)\n",
        "print(a)"
      ],
      "execution_count": null,
      "outputs": [
        {
          "output_type": "error",
          "ename": "ValueError",
          "evalue": "ignored",
          "traceback": [
            "\u001b[0;31m---------------------------------------------------------------------------\u001b[0m",
            "\u001b[0;31mValueError\u001b[0m                                Traceback (most recent call last)",
            "\u001b[0;32m<ipython-input-17-c9d2231e1eb6>\u001b[0m in \u001b[0;36m<module>\u001b[0;34m()\u001b[0m\n\u001b[0;32m----> 1\u001b[0;31m \u001b[0ma\u001b[0m  \u001b[0;34m=\u001b[0m \u001b[0mtorch\u001b[0m\u001b[0;34m.\u001b[0m\u001b[0mtensor\u001b[0m\u001b[0;34m(\u001b[0m\u001b[0;34m[\u001b[0m\u001b[0mtorch\u001b[0m\u001b[0;34m.\u001b[0m\u001b[0mzeros\u001b[0m\u001b[0;34m(\u001b[0m\u001b[0;36m1\u001b[0m\u001b[0;34m)\u001b[0m\u001b[0;34m,\u001b[0m \u001b[0mtorch\u001b[0m\u001b[0;34m.\u001b[0m\u001b[0mzeros\u001b[0m\u001b[0;34m(\u001b[0m\u001b[0;36m2\u001b[0m\u001b[0;34m)\u001b[0m\u001b[0;34m,\u001b[0m\u001b[0mtorch\u001b[0m\u001b[0;34m.\u001b[0m\u001b[0mzeros\u001b[0m\u001b[0;34m(\u001b[0m\u001b[0;36m3\u001b[0m\u001b[0;34m)\u001b[0m\u001b[0;34m,\u001b[0m \u001b[0mtorch\u001b[0m\u001b[0;34m.\u001b[0m\u001b[0mzeros\u001b[0m\u001b[0;34m(\u001b[0m\u001b[0;36m4\u001b[0m\u001b[0;34m)\u001b[0m\u001b[0;34m]\u001b[0m\u001b[0;34m)\u001b[0m\u001b[0;34m\u001b[0m\u001b[0;34m\u001b[0m\u001b[0m\n\u001b[0m\u001b[1;32m      2\u001b[0m \u001b[0mprint\u001b[0m\u001b[0;34m(\u001b[0m\u001b[0ma\u001b[0m\u001b[0;34m)\u001b[0m\u001b[0;34m\u001b[0m\u001b[0;34m\u001b[0m\u001b[0m\n\u001b[1;32m      3\u001b[0m \u001b[0;34m\u001b[0m\u001b[0m\n\u001b[1;32m      4\u001b[0m \u001b[0ma\u001b[0m \u001b[0;34m=\u001b[0m \u001b[0mtorch\u001b[0m\u001b[0;34m.\u001b[0m\u001b[0mtensor\u001b[0m\u001b[0;34m(\u001b[0m\u001b[0ma\u001b[0m\u001b[0;34m)\u001b[0m\u001b[0;34m\u001b[0m\u001b[0;34m\u001b[0m\u001b[0m\n\u001b[1;32m      5\u001b[0m \u001b[0mprint\u001b[0m\u001b[0;34m(\u001b[0m\u001b[0ma\u001b[0m\u001b[0;34m)\u001b[0m\u001b[0;34m\u001b[0m\u001b[0;34m\u001b[0m\u001b[0m\n",
            "\u001b[0;31mValueError\u001b[0m: only one element tensors can be converted to Python scalars"
          ]
        }
      ]
    },
    {
      "cell_type": "code",
      "metadata": {
        "id": "Ppk2R2fGyI4z",
        "colab_type": "code",
        "colab": {}
      },
      "source": [
        ""
      ],
      "execution_count": null,
      "outputs": []
    },
    {
      "cell_type": "code",
      "metadata": {
        "id": "jlfRjV5PyI7d",
        "colab_type": "code",
        "colab": {}
      },
      "source": [
        ""
      ],
      "execution_count": null,
      "outputs": []
    },
    {
      "cell_type": "code",
      "metadata": {
        "id": "0ajqOobiyJJv",
        "colab_type": "code",
        "colab": {}
      },
      "source": [
        ""
      ],
      "execution_count": null,
      "outputs": []
    },
    {
      "cell_type": "code",
      "metadata": {
        "id": "rbzBkLEoPZwI",
        "colab_type": "code",
        "colab": {}
      },
      "source": [
        ""
      ],
      "execution_count": null,
      "outputs": []
    },
    {
      "cell_type": "code",
      "metadata": {
        "id": "FFMhJbV0PZ0e",
        "colab_type": "code",
        "colab": {}
      },
      "source": [
        ""
      ],
      "execution_count": null,
      "outputs": []
    },
    {
      "cell_type": "code",
      "metadata": {
        "id": "9P74D04OPZ7i",
        "colab_type": "code",
        "colab": {}
      },
      "source": [
        ""
      ],
      "execution_count": null,
      "outputs": []
    },
    {
      "cell_type": "code",
      "metadata": {
        "id": "-j4Iere0PaDq",
        "colab_type": "code",
        "colab": {}
      },
      "source": [
        ""
      ],
      "execution_count": null,
      "outputs": []
    },
    {
      "cell_type": "code",
      "metadata": {
        "id": "abQAERZGPaG_",
        "colab_type": "code",
        "colab": {}
      },
      "source": [
        ""
      ],
      "execution_count": null,
      "outputs": []
    },
    {
      "cell_type": "code",
      "metadata": {
        "id": "H4c9oJqQPZ6M",
        "colab_type": "code",
        "colab": {}
      },
      "source": [
        ""
      ],
      "execution_count": null,
      "outputs": []
    },
    {
      "cell_type": "code",
      "metadata": {
        "id": "YFh5MxA9PZ4X",
        "colab_type": "code",
        "colab": {}
      },
      "source": [
        ""
      ],
      "execution_count": null,
      "outputs": []
    }
  ]
}